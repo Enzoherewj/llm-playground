{
 "cells": [
  {
   "cell_type": "code",
   "execution_count": 1,
   "id": "36bacad1-a32f-4b70-8efc-ac9daf1bf621",
   "metadata": {},
   "outputs": [],
   "source": [
    "import openai"
   ]
  },
  {
   "cell_type": "code",
   "execution_count": 2,
   "id": "c3761771-fbc7-4c16-94ba-78b65b2fd5f5",
   "metadata": {},
   "outputs": [],
   "source": [
    "from openai import OpenAI"
   ]
  },
  {
   "cell_type": "code",
   "execution_count": 3,
   "id": "b3e6e71d-3d85-477a-87b6-165591005481",
   "metadata": {},
   "outputs": [],
   "source": [
    "import os"
   ]
  },
  {
   "cell_type": "code",
   "execution_count": 4,
   "id": "b93a9163-5524-47a1-9615-578c995db171",
   "metadata": {},
   "outputs": [],
   "source": [
    "import sys"
   ]
  },
  {
   "cell_type": "code",
   "execution_count": 25,
   "id": "f0e7d7fa-cb8a-4e30-a748-b75f3bc504a2",
   "metadata": {},
   "outputs": [],
   "source": [
    "client = OpenAI()"
   ]
  },
  {
   "cell_type": "code",
   "execution_count": 30,
   "id": "9a844653-f888-4113-b60d-61b0b263e1fa",
   "metadata": {},
   "outputs": [],
   "source": [
    "completion = client.chat.completions.create(\n",
    "  model=\"gpt-4o\",\n",
    "  messages=[\n",
    "    {\"role\": \"user\", \"content\": \"is it too late to join the course?\"}\n",
    "  ]\n",
    ")\n"
   ]
  },
  {
   "cell_type": "code",
   "execution_count": 31,
   "id": "edcac3a8-10a4-48c0-ba47-e183e8c62eed",
   "metadata": {},
   "outputs": [
    {
     "name": "stdout",
     "output_type": "stream",
     "text": [
      "ChatCompletionMessage(content=\"The answer depends on the specific course you are referring to. Each course has its own enrollment deadlines and policies, which can vary widely depending on the institution, the format of the course (online, in-person, hybrid), and other factors. Here are some steps you can take to find out if it's too late to join the course:\\n\\n1. **Check the Course Information:** Look for enrollment deadlines on the course webpage or in course materials.\\n2. **Contact the Instructor or Administration:** Reach out to the course instructor or the academic administration office for clear guidance.\\n3. **Review the Enrollment Policies:** Universities and online course providers often have policies regarding late enrollment, add/drop periods, and fees associated with late registration.\\n4. **Consider Alternatives:** If it's too late to join this particular course, ask about similar courses or future offerings.\\n\\nIf you provide more specifics about the course or the institution offering it, I might be able to offer more tailored advice.\", role='assistant', function_call=None, tool_calls=None)\n"
     ]
    }
   ],
   "source": [
    "print(completion.choices[0].message)"
   ]
  },
  {
   "cell_type": "code",
   "execution_count": null,
   "id": "6f8fb970-2a64-4f61-9cd6-b5371ff8f764",
   "metadata": {},
   "outputs": [],
   "source": []
  }
 ],
 "metadata": {
  "kernelspec": {
   "display_name": "Python 3 (ipykernel)",
   "language": "python",
   "name": "python3"
  },
  "language_info": {
   "codemirror_mode": {
    "name": "ipython",
    "version": 3
   },
   "file_extension": ".py",
   "mimetype": "text/x-python",
   "name": "python",
   "nbconvert_exporter": "python",
   "pygments_lexer": "ipython3",
   "version": "3.10.13"
  }
 },
 "nbformat": 4,
 "nbformat_minor": 5
}
